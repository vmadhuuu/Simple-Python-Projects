{
 "cells": [
  {
   "cell_type": "code",
   "execution_count": 3,
   "id": "virtual-shelf",
   "metadata": {},
   "outputs": [
    {
     "name": "stdout",
     "output_type": "stream",
     "text": [
      "Welcome to Your Password Generator\n",
      "Amount of passwords to generate: 6\n",
      "Enter the length of your password7\n",
      "\n",
      "Here are your passwords: \n",
      "sck)sD)\n",
      "$3y82Gw\n",
      "A$X0IN@\n",
      "QFLrBb.\n",
      "TX8SpM@\n",
      ")KuBf%j\n"
     ]
    }
   ],
   "source": [
    "import random\n",
    "\n",
    "print('Welcome to Your Password Generator')\n",
    "\n",
    "chars = 'abcdefghijklmnopqrstuvwxyzABCDEFGHIJKLMNOPQRSTUVWXYZ!@#$%&*().?_0123456789'\n",
    "\n",
    "number = int(input('Amount of passwords to generate: '))\n",
    "\n",
    "length = int(input('Enter the length of your password'))\n",
    "\n",
    "print('\\nHere are your passwords: ')\n",
    "\n",
    "for pwd in range(number):\n",
    "    passwords = ''\n",
    "    for c in range(length):\n",
    "        passwords += random.choice(chars)\n",
    "    print(passwords)    \n",
    "\n"
   ]
  },
  {
   "cell_type": "code",
   "execution_count": null,
   "id": "wound-bacon",
   "metadata": {},
   "outputs": [],
   "source": []
  }
 ],
 "metadata": {
  "kernelspec": {
   "display_name": "Python 3",
   "language": "python",
   "name": "python3"
  },
  "language_info": {
   "codemirror_mode": {
    "name": "ipython",
    "version": 3
   },
   "file_extension": ".py",
   "mimetype": "text/x-python",
   "name": "python",
   "nbconvert_exporter": "python",
   "pygments_lexer": "ipython3",
   "version": "3.8.5"
  }
 },
 "nbformat": 4,
 "nbformat_minor": 5
}
